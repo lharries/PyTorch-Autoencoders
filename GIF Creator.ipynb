{
 "cells": [
  {
   "cell_type": "code",
   "execution_count": 100,
   "metadata": {},
   "outputs": [],
   "source": [
    "%matplotlib inline\n",
    "import matplotlib.pyplot as plt\n",
    "import os\n",
    "import numpy as np\n",
    "\n",
    "\n",
    "import imageio\n",
    "\n",
    "from PIL import Image"
   ]
  },
  {
   "cell_type": "code",
   "execution_count": 105,
   "metadata": {},
   "outputs": [],
   "source": [
    "# find the images\n",
    "images = [x for x in os.listdir('.') if x[-4:] == \".png\" and '-' in x]"
   ]
  },
  {
   "cell_type": "code",
   "execution_count": 106,
   "metadata": {},
   "outputs": [],
   "source": [
    "def combine_images(fnames):\n",
    "    images = [np.array(Image.open(x)) for x in fnames]\n",
    "    return Image.fromarray(np.concatenate(images))"
   ]
  },
  {
   "cell_type": "code",
   "execution_count": 107,
   "metadata": {},
   "outputs": [],
   "source": [
    "# group the images by categories\n",
    "categories = {}\n",
    "for image in images:\n",
    "    category = image.split(\"_-_\")[0]\n",
    "    \n",
    "    if category not in categories:\n",
    "        categories[category] = []\n",
    "        \n",
    "    \n",
    "    categories[category].append(image)    \n",
    "    "
   ]
  },
  {
   "cell_type": "code",
   "execution_count": 111,
   "metadata": {},
   "outputs": [],
   "source": [
    "names = ['Autoencoder', 'Convolutional_Autoencoder', 'VAE', 'Conditional_VAE']\n",
    "\n",
    "for idx in range(10):\n",
    "    images_by_epoch = []\n",
    "    for name in names:\n",
    "        images_by_epoch.append(categories[name][idx])\n",
    "        \n",
    "    combine_images(images_by_epoch).save(f'Epoch_{idx}.png')"
   ]
  },
  {
   "cell_type": "code",
   "execution_count": 113,
   "metadata": {},
   "outputs": [],
   "source": [
    "# generate the gif\n",
    "final_images = [np.array(Image.open(f'Epoch_{idx}.png')) for idx in range(10)]\n",
    "imageio.mimsave('final.gif', final_images, duration=1.5)"
   ]
  },
  {
   "cell_type": "code",
   "execution_count": null,
   "metadata": {},
   "outputs": [],
   "source": []
  }
 ],
 "metadata": {
  "kernelspec": {
   "display_name": "Python 3",
   "language": "python",
   "name": "python3"
  },
  "language_info": {
   "codemirror_mode": {
    "name": "ipython",
    "version": 3
   },
   "file_extension": ".py",
   "mimetype": "text/x-python",
   "name": "python",
   "nbconvert_exporter": "python",
   "pygments_lexer": "ipython3",
   "version": "3.6.5"
  }
 },
 "nbformat": 4,
 "nbformat_minor": 2
}

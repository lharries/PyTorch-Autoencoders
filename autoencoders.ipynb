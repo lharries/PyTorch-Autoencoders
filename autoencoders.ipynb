{
 "cells": [
  {
   "cell_type": "markdown",
   "metadata": {},
   "source": [
    "## Imports"
   ]
  },
  {
   "cell_type": "code",
   "execution_count": 1,
   "metadata": {},
   "outputs": [],
   "source": [
    "%matplotlib inline\n",
    "from IPython import display\n",
    "import matplotlib.pyplot as plt\n",
    "\n",
    "import torch\n",
    "import torch.nn as nn\n",
    "import torch.nn.functional as F\n",
    "from torchvision import datasets, transforms\n",
    "\n",
    "import numpy as np\n",
    "\n",
    "device = torch.device(\"cuda\" if torch.cuda.is_available() else \"cpu\")"
   ]
  },
  {
   "cell_type": "markdown",
   "metadata": {},
   "source": [
    "## Constants"
   ]
  },
  {
   "cell_type": "code",
   "execution_count": 2,
   "metadata": {},
   "outputs": [],
   "source": [
    "batch_size = 128"
   ]
  },
  {
   "cell_type": "markdown",
   "metadata": {},
   "source": [
    "## Data"
   ]
  },
  {
   "cell_type": "code",
   "execution_count": 3,
   "metadata": {},
   "outputs": [],
   "source": [
    "transform = transforms.Compose([\n",
    "    transforms.Resize((28,28)),\n",
    "    transforms.ToTensor(),\n",
    "    transforms.Normalize((0.5, 0.5, 0.5), (0.5, 0.5, 0.5)),\n",
    "])\n",
    "\n",
    "train_dataset = datasets.MNIST('./data', transform=transform, download=True)\n",
    "train_dataloader = torch.utils.data.DataLoader(train_dataset, batch_size=batch_size, shuffle=True)\n",
    "\n",
    "test_dataset_test = datasets.MNIST('./data', transform=transform, download=True, train=False)\n",
    "test_dataloader = torch.utils.data.DataLoader(test_dataset_test, batch_size=batch_size, shuffle=False)"
   ]
  },
  {
   "cell_type": "markdown",
   "metadata": {},
   "source": [
    "## Utils"
   ]
  },
  {
   "cell_type": "code",
   "execution_count": 4,
   "metadata": {},
   "outputs": [],
   "source": [
    "def calculate_loss(model, dataloader, flatten, loss_fn = nn.MSELoss()):\n",
    "    losses = []\n",
    "    for batch, labels in dataloader:\n",
    "        batch = batch.to(device)\n",
    "        \n",
    "        if flatten:\n",
    "            batch = batch.view(batch.size(0), 28*28)\n",
    "            \n",
    "        loss = loss_fn(batch, model(batch))\n",
    "        losses.append(loss)\n",
    "\n",
    "    return (sum(losses)/len(losses)).item() # calculate mean"
   ]
  },
  {
   "cell_type": "code",
   "execution_count": 5,
   "metadata": {},
   "outputs": [],
   "source": [
    "def show_visual_progress(model, test_dataloader, flatten, vae=False):\n",
    "    batch, label = next(iter(test_dataloader))\n",
    "    batch = batch.to(device)\n",
    "    \n",
    "    if flatten:\n",
    "        batch = batch.view(batch.size(0), 28*28)\n",
    "    \n",
    "    if vae:\n",
    "        images = model(batch)[0].detach().cpu().numpy().reshape(batch.size(0),28,28)\n",
    "    else:\n",
    "        images = model(batch).detach().cpu().numpy().reshape(batch.size(0),28,28)\n",
    "\n",
    "    image_idxs = [list(label.numpy()).index(x) for x in range(10)]\n",
    "    combined_images = np.concatenate([images[x].reshape(28,28) for x in image_idxs],1)\n",
    "    plt.imshow(combined_images)\n",
    "    plt.show()"
   ]
  },
  {
   "cell_type": "code",
   "execution_count": 6,
   "metadata": {},
   "outputs": [],
   "source": [
    "def evaluate(losses, net, dataloader, flatten):\n",
    "    display.clear_output(wait=True)\n",
    "    loss = calculate_loss(net, dataloader, flatten)\n",
    "    show_visual_progress(net, test_dataloader, flatten, vae)\n",
    "    \n",
    "    losses.append(loss)\n",
    "    \n",
    "    plt.plot(losses)\n",
    "    plt.show()"
   ]
  },
  {
   "cell_type": "code",
   "execution_count": 7,
   "metadata": {},
   "outputs": [],
   "source": [
    "def train(net, dataloader, test_dataloader, epochs=5, flatten=False, loss_fn=nn.MSELoss()):\n",
    "    optim = torch.optim.Adam(net.parameters())\n",
    "    \n",
    "    train_losses = []\n",
    "    validation_losses = []\n",
    "    \n",
    "    for i in range(epochs):\n",
    "        for batch, labels in dataloader:\n",
    "            batch = batch.to(device)\n",
    "            \n",
    "            if flatten:\n",
    "                batch = batch.view(batch.size(0), 28*28)\n",
    "            \n",
    "            optim.zero_grad()\n",
    "            loss = loss_fn(batch, net(batch))\n",
    "            loss.backward()\n",
    "            optim.step()\n",
    "            \n",
    "            train_losses.append(loss.item())\n",
    "            \n",
    "        evaluate(validation_losses, net, test_dataloader, flatten)"
   ]
  },
  {
   "cell_type": "markdown",
   "metadata": {},
   "source": [
    "# Autoencoders"
   ]
  },
  {
   "cell_type": "markdown",
   "metadata": {},
   "source": [
    "## Vanilla Autoencoder"
   ]
  },
  {
   "cell_type": "code",
   "execution_count": 10,
   "metadata": {},
   "outputs": [],
   "source": [
    "class Autoencoder(nn.Module):\n",
    "    def __init__(self, input_size, hidden=10):\n",
    "        super(Autoencoder, self).__init__()\n",
    "        self.encoder = nn.Sequential(\n",
    "            nn.Linear(input_size,512),\n",
    "            nn.ReLU(),\n",
    "            nn.Linear(512, 128),\n",
    "            nn.ReLU(),\n",
    "            nn.Linear(128, hidden)\n",
    "        )\n",
    "        \n",
    "        self.decoder = nn.Sequential(\n",
    "            nn.Linear(hidden, 128),\n",
    "            nn.ReLU(),\n",
    "            nn.Linear(128, 512),\n",
    "            nn.ReLU(),\n",
    "            nn.Linear(512, input_size)\n",
    "        )\n",
    "    \n",
    "    def forward(self, x):\n",
    "        return self.decoder(self.encoder(x))"
   ]
  },
  {
   "cell_type": "code",
   "execution_count": 11,
   "metadata": {},
   "outputs": [
    {
     "data": {
      "image/png": "[encoded data removed]",
      "text/plain": [
       "<Figure size 432x288 with 1 Axes>"
      ]
     },
     "metadata": {},
     "output_type": "display_data"
    },
    {
     "data": {
      "image/png": "[encoded data removed]",
      "text/plain": [
       "<Figure size 432x288 with 1 Axes>"
      ]
     },
     "metadata": {},
     "output_type": "display_data"
    }
   ],
   "source": [
    "autoencoder = Autoencoder(28*28).to(device)\n",
    "train(autoencoder, train_dataloader, test_dataloader, epochs=10, flatten=True)"
   ]
  },
  {
   "cell_type": "markdown",
   "metadata": {},
   "source": [
    "## Convolutional Autoencoder"
   ]
  },
  {
   "cell_type": "code",
   "execution_count": 13,
   "metadata": {},
   "outputs": [],
   "source": [
    "class CNNAutoencoder(nn.Module):\n",
    "    def __init__(self):\n",
    "        super(CNNAutoencoder, self).__init__()\n",
    "        self.encoder = nn.Sequential(\n",
    "            nn.Conv2d(1,16,(3,3),stride=3,padding=1),\n",
    "            nn.ReLU(),\n",
    "            nn.MaxPool2d(2, stride=2),\n",
    "            nn.Conv2d(16,8,(3,3), stride=2, padding=1),\n",
    "            nn.ReLU(),\n",
    "            nn.MaxPool2d(2, stride=1)\n",
    "        )\n",
    "        \n",
    "        self.decoder = nn.Sequential(\n",
    "            nn.ConvTranspose2d(8,16,(3,3), stride=2),\n",
    "            nn.ReLU(),\n",
    "            nn.ConvTranspose2d(16,8,(5,5), stride=3, padding=1),\n",
    "            nn.ReLU(),\n",
    "            nn.ConvTranspose2d(8, 1, 2, stride=2, padding=1),\n",
    "            nn.Tanh()\n",
    "        )\n",
    "        \n",
    "    def forward(self, x):\n",
    "        x = self.encoder(x)\n",
    "        x = self.decoder(x)\n",
    "        return x"
   ]
  },
  {
   "cell_type": "code",
   "execution_count": null,
   "metadata": {},
   "outputs": [
    {
     "data": {
      "image/png": "[encoded data removed]",
      "text/plain": [
       "<Figure size 432x288 with 1 Axes>"
      ]
     },
     "metadata": {},
     "output_type": "display_data"
    },
    {
     "data": {
      "image/png": "[encoded data removed]",
      "text/plain": [
       "<Figure size 432x288 with 1 Axes>"
      ]
     },
     "metadata": {},
     "output_type": "display_data"
    }
   ],
   "source": [
    "cnnAutoencoder = CNNAutoencoder().to(device)\n",
    "train(cnnAutoencoder, train_dataloader, test_dataloader, epochs=20)"
   ]
  },
  {
   "cell_type": "markdown",
   "metadata": {},
   "source": [
    "## Variational Autoencoder"
   ]
  },
  {
   "cell_type": "code",
   "execution_count": 15,
   "metadata": {},
   "outputs": [],
   "source": [
    "class VariationalAutoencoder(nn.Module):\n",
    "    def __init__(self, input_size):\n",
    "        super(VariationalAutoencoder, self).__init__()\n",
    "        self.fc1 = nn.Linear(input_size,512)\n",
    "        self.fc21 = nn.Linear(512, 20)\n",
    "        self.fc22 = nn.Linear(512, 20)\n",
    "        \n",
    "        \n",
    "        self.relu = nn.ReLU()\n",
    "        \n",
    "        self.fc3 = nn.Linear(20, 512)\n",
    "        self.fc4 = nn.Linear(512, input_size)\n",
    "    \n",
    "    def encode(self, x):\n",
    "        x = self.relu(self.fc1(x))\n",
    "        return self.fc21(x), self.fc22(x)\n",
    "        \n",
    "    def decode(self, z):\n",
    "        z = self.relu(self.fc3(z))\n",
    "        return torch.sigmoid(self.fc4(z))\n",
    "        \n",
    "    def reparameterize(self, mu, logvar):\n",
    "        std = torch.exp(0.5 *logvar)\n",
    "        eps = torch.randn_like(std)\n",
    "        return eps.mul(std).add_(mu)\n",
    "        \n",
    "    def forward(self,x):\n",
    "        mu, logvar = self.encode(x)\n",
    "        z = self.reparameterize(mu, logvar)\n",
    "        x = self.decode(z)\n",
    "        return x, mu, logvar"
   ]
  },
  {
   "cell_type": "code",
   "execution_count": 39,
   "metadata": {},
   "outputs": [],
   "source": [
    "def vae_loss_fn(x, recon_x, mu, logvar):\n",
    "    BCE = F.binary_cross_entropy(recon_x, x, reduction='sum')\n",
    "\n",
    "    # see Appendix B from VAE paper:\n",
    "    # Kingma and Welling. Auto-Encoding Variational Bayes. ICLR, 2014\n",
    "    # https://arxiv.org/abs/1312.6114\n",
    "    # 0.5 * sum(1 + log(sigma^2) - mu^2 - sigma^2)\n",
    "    KLD = -0.5 * torch.sum(1 + logvar - mu.pow(2) - logvar.exp())\n",
    "\n",
    "    return BCE + KLD"
   ]
  },
  {
   "cell_type": "code",
   "execution_count": 44,
   "metadata": {
    "scrolled": true
   },
   "outputs": [
    {
     "data": {
      "image/png": "[encoded data removed]",
      "text/plain": [
       "<Figure size 432x288 with 1 Axes>"
      ]
     },
     "metadata": {},
     "output_type": "display_data"
    },
    {
     "data": {
      "image/png": "[encoded data removed]",
      "text/plain": [
       "<Figure size 432x288 with 1 Axes>"
      ]
     },
     "metadata": {},
     "output_type": "display_data"
    }
   ],
   "source": [
    "net = VariationalAutoencoder(28*28).to(device)\n",
    "\n",
    "dataloader = train_dataloader\n",
    "test_dataloader = test_dataloader\n",
    "flatten=True\n",
    "\n",
    "epochs=10\n",
    "\n",
    "validation_losses = []\n",
    "\n",
    "optim = torch.optim.Adam(net.parameters())\n",
    "    \n",
    "for i in range(epochs):\n",
    "    for batch in dataloader:\n",
    "        batch = batch[0].to(device)\n",
    "\n",
    "        if flatten:\n",
    "            batch = batch.view(batch.size(0), 28*28)\n",
    "\n",
    "        optim.zero_grad()\n",
    "        x,mu,logvar = net(batch)\n",
    "        loss = vae_loss_fn(batch, x, mu, logvar)\n",
    "        loss.backward()\n",
    "        optim.step()\n",
    "#         print(loss)\n",
    "    evaluate(validation_losses, lambda x: net(x)[0], test_dataloader, True)"
   ]
  },
  {
   "cell_type": "markdown",
   "metadata": {},
   "source": [
    "## Conditional Conv VAE"
   ]
  },
  {
   "cell_type": "code",
   "execution_count": 48,
   "metadata": {},
   "outputs": [],
   "source": [
    "import numpy as np\n",
    "import torch\n",
    "import torch.nn.functional as F\n",
    "from torch.utils.data import DataLoader\n",
    "from torchvision import datasets\n",
    "from torchvision import transforms"
   ]
  },
  {
   "cell_type": "code",
   "execution_count": 49,
   "metadata": {},
   "outputs": [
    {
     "name": "stdout",
     "output_type": "stream",
     "text": [
      "Device: cpu\n",
      "Image batch dimensions: torch.Size([128, 1, 28, 28])\n",
      "Image label dimensions: torch.Size([128])\n"
     ]
    }
   ],
   "source": [
    "# Device\n",
    "device = torch.device(\"cuda:0\" if torch.cuda.is_available() else \"cpu\")\n",
    "print('Device:', device)\n",
    "\n",
    "# Hyperparameters\n",
    "random_seed = 0\n",
    "learning_rate = 0.001\n",
    "num_epochs = 50\n",
    "batch_size = 128\n",
    "\n",
    "# Architecture\n",
    "num_classes = 10\n",
    "num_features = 784\n",
    "num_latent = 50\n",
    "\n",
    "\n",
    "##########################\n",
    "### MNIST DATASET\n",
    "##########################\n",
    "\n",
    "# Note transforms.ToTensor() scales input images\n",
    "# to 0-1 range\n",
    "train_dataset = datasets.MNIST(root='data', \n",
    "                               train=True, \n",
    "                               transform=transforms.ToTensor(),\n",
    "                               download=True)\n",
    "\n",
    "test_dataset = datasets.MNIST(root='data', \n",
    "                              train=False, \n",
    "                              transform=transforms.ToTensor())\n",
    "\n",
    "\n",
    "train_loader = DataLoader(dataset=train_dataset, \n",
    "                          batch_size=batch_size, \n",
    "                          shuffle=True)\n",
    "\n",
    "test_loader = DataLoader(dataset=test_dataset, \n",
    "                         batch_size=batch_size, \n",
    "                         shuffle=False)\n",
    "\n",
    "# Checking the dataset\n",
    "for images, labels in train_loader:  \n",
    "    print('Image batch dimensions:', images.shape)\n",
    "    print('Image label dimensions:', labels.shape)\n",
    "    break"
   ]
  },
  {
   "cell_type": "code",
   "execution_count": 50,
   "metadata": {},
   "outputs": [],
   "source": [
    "##########################\n",
    "### MODEL\n",
    "##########################\n",
    "\n",
    "\n",
    "def to_onehot(labels, num_classes, device):\n",
    "\n",
    "    labels_onehot = torch.zeros(labels.size()[0], num_classes).to(device)\n",
    "    labels_onehot.scatter_(1, labels.view(-1, 1), 1)\n",
    "\n",
    "    return labels_onehot\n",
    "\n",
    "\n",
    "class ConditionalVariationalAutoencoder(torch.nn.Module):\n",
    "\n",
    "    def __init__(self, num_features, num_latent, num_classes):\n",
    "        super(ConditionalVariationalAutoencoder, self).__init__()\n",
    "        \n",
    "        self.num_classes = num_classes\n",
    "        \n",
    "        \n",
    "        ###############\n",
    "        # ENCODER\n",
    "        ##############\n",
    "        \n",
    "        # calculate same padding:\n",
    "        # (w - k + 2*p)/s + 1 = o\n",
    "        # => p = (s(o-1) - w + k)/2\n",
    "\n",
    "        self.enc_conv_1 = torch.nn.Conv2d(in_channels=1+self.num_classes,\n",
    "                                          out_channels=16,\n",
    "                                          kernel_size=(6, 6),\n",
    "                                          stride=(2, 2),\n",
    "                                          padding=0)\n",
    "\n",
    "        self.enc_conv_2 = torch.nn.Conv2d(in_channels=16,\n",
    "                                          out_channels=32,\n",
    "                                          kernel_size=(4, 4),\n",
    "                                          stride=(2, 2),\n",
    "                                          padding=0)                 \n",
    "        \n",
    "        self.enc_conv_3 = torch.nn.Conv2d(in_channels=32,\n",
    "                                          out_channels=64,\n",
    "                                          kernel_size=(2, 2),\n",
    "                                          stride=(2, 2),\n",
    "                                          padding=0)                     \n",
    "        \n",
    "        self.z_mean = torch.nn.Linear(64*2*2, num_latent)\n",
    "        # in the original paper (Kingma & Welling 2015, we use\n",
    "        # have a z_mean and z_var, but the problem is that\n",
    "        # the z_var can be negative, which would cause issues\n",
    "        # in the log later. Hence we assume that latent vector\n",
    "        # has a z_mean and z_log_var component, and when we need\n",
    "        # the regular variance or std_dev, we simply use \n",
    "        # an exponential function\n",
    "        self.z_log_var = torch.nn.Linear(64*2*2, num_latent)\n",
    "        \n",
    "        \n",
    "        \n",
    "        ###############\n",
    "        # DECODER\n",
    "        ##############\n",
    "        \n",
    "        self.dec_linear_1 = torch.nn.Linear(num_latent+self.num_classes, 64*2*2)\n",
    "               \n",
    "        self.dec_deconv_1 = torch.nn.ConvTranspose2d(in_channels=64,\n",
    "                                                     out_channels=32,\n",
    "                                                     kernel_size=(2, 2),\n",
    "                                                     stride=(2, 2),\n",
    "                                                     padding=0)\n",
    "                                 \n",
    "        self.dec_deconv_2 = torch.nn.ConvTranspose2d(in_channels=32,\n",
    "                                                     out_channels=16,\n",
    "                                                     kernel_size=(4, 4),\n",
    "                                                     stride=(3, 3),\n",
    "                                                     padding=1)\n",
    "        \n",
    "        self.dec_deconv_3 = torch.nn.ConvTranspose2d(in_channels=16,\n",
    "                                                     out_channels=1,\n",
    "                                                     kernel_size=(6, 6),\n",
    "                                                     stride=(3, 3),\n",
    "                                                     padding=4)        \n",
    "\n",
    "\n",
    "    def reparameterize(self, z_mu, z_log_var):\n",
    "        # Sample epsilon from standard normal distribution\n",
    "        eps = torch.randn(z_mu.size(0), z_mu.size(1)).to(device)\n",
    "        # note that log(x^2) = 2*log(x); hence divide by 2 to get std_dev\n",
    "        # i.e., std_dev = exp(log(std_dev^2)/2) = exp(log(var)/2)\n",
    "        z = z_mu + eps * torch.exp(z_log_var/2.) \n",
    "        return z\n",
    "        \n",
    "    def encoder(self, features, targets):\n",
    "        \n",
    "        ### Add condition\n",
    "        onehot_targets = to_onehot(targets, self.num_classes, device)\n",
    "        onehot_targets = onehot_targets.view(-1, self.num_classes, 1, 1)\n",
    "        \n",
    "        ones = torch.ones(features.size()[0], \n",
    "                          self.num_classes,\n",
    "                          features.size()[2], \n",
    "                          features.size()[3], \n",
    "                          dtype=features.dtype).to(device)\n",
    "        ones = ones * onehot_targets\n",
    "        x = torch.cat((features, ones), dim=1)\n",
    "        \n",
    "        x = self.enc_conv_1(x)\n",
    "        x = F.leaky_relu(x)\n",
    "        #print('conv1 out:', x.size())\n",
    "        \n",
    "        x = self.enc_conv_2(x)\n",
    "        x = F.leaky_relu(x)\n",
    "        #print('conv2 out:', x.size())\n",
    "        \n",
    "        x = self.enc_conv_3(x)\n",
    "        x = F.leaky_relu(x)\n",
    "        #print('conv3 out:', x.size())\n",
    "        \n",
    "        z_mean = self.z_mean(x.view(-1, 64*2*2))\n",
    "        z_log_var = self.z_log_var(x.view(-1, 64*2*2))\n",
    "        encoded = self.reparameterize(z_mean, z_log_var)\n",
    "        return z_mean, z_log_var, encoded\n",
    "    \n",
    "    def decoder(self, encoded, targets):\n",
    "        ### Add condition\n",
    "        onehot_targets = to_onehot(targets, self.num_classes, device)\n",
    "        encoded = torch.cat((encoded, onehot_targets), dim=1)        \n",
    "        \n",
    "        x = self.dec_linear_1(encoded)\n",
    "        x = x.view(-1, 64, 2, 2)\n",
    "        \n",
    "        x = self.dec_deconv_1(x)\n",
    "        x = F.leaky_relu(x)\n",
    "        #print('deconv1 out:', x.size())\n",
    "        \n",
    "        x = self.dec_deconv_2(x)\n",
    "        x = F.leaky_relu(x)\n",
    "        #print('deconv2 out:', x.size())\n",
    "        \n",
    "        x = self.dec_deconv_3(x)\n",
    "        x = F.leaky_relu(x)\n",
    "        #print('deconv1 out:', x.size())\n",
    "        \n",
    "        decoded = torch.sigmoid(x)\n",
    "        return decoded\n",
    "\n",
    "    def forward(self, features, targets):\n",
    "        \n",
    "        z_mean, z_log_var, encoded = self.encoder(features, targets)\n",
    "        decoded = self.decoder(encoded, targets)\n",
    "        \n",
    "        return z_mean, z_log_var, encoded, decoded\n",
    "\n",
    "    \n",
    "torch.manual_seed(random_seed)\n",
    "model = ConditionalVariationalAutoencoder(num_features,\n",
    "                                          num_latent,\n",
    "                                          num_classes)\n",
    "model = model.to(device)\n",
    "    \n",
    "\n",
    "##########################\n",
    "### COST AND OPTIMIZER\n",
    "##########################\n",
    "\n",
    "optimizer = torch.optim.Adam(model.parameters(), lr=learning_rate)"
   ]
  }
 ],
 "metadata": {
  "kernelspec": {
   "display_name": "Python 3",
   "language": "python",
   "name": "python3"
  },
  "language_info": {
   "codemirror_mode": {
    "name": "ipython",
    "version": 3
   },
   "file_extension": ".py",
   "mimetype": "text/x-python",
   "name": "python",
   "nbconvert_exporter": "python",
   "pygments_lexer": "ipython3",
   "version": "3.6.5"
  }
 },
 "nbformat": 4,
 "nbformat_minor": 2
}
